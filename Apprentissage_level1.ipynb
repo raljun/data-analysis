{
  "nbformat": 4,
  "nbformat_minor": 0,
  "metadata": {
    "colab": {
      "private_outputs": true,
      "provenance": [],
      "authorship_tag": "ABX9TyMj98Q8+QmnttRGLVqE05no",
      "include_colab_link": true
    },
    "kernelspec": {
      "name": "python3",
      "display_name": "Python 3"
    },
    "language_info": {
      "name": "python"
    }
  },
  "cells": [
    {
      "cell_type": "markdown",
      "metadata": {
        "id": "view-in-github",
        "colab_type": "text"
      },
      "source": [
        "<a href=\"https://colab.research.google.com/github/raljun/data-analysis/blob/main/Apprentissage_level1.ipynb\" target=\"_parent\"><img src=\"https://colab.research.google.com/assets/colab-badge.svg\" alt=\"Open In Colab\"/></a>"
      ]
    },
    {
      "cell_type": "code",
      "execution_count": null,
      "metadata": {
        "id": "OLWvS3uabpUt"
      },
      "outputs": [],
      "source": [
        "print('hello colab')"
      ]
    },
    {
      "cell_type": "code",
      "source": [
        "# import pandas\n",
        "import pandas as pd"
      ],
      "metadata": {
        "id": "Qu0ANqcubu2v"
      },
      "execution_count": null,
      "outputs": []
    },
    {
      "cell_type": "code",
      "source": [
        "# import the database\n",
        "from google.colab import files\n",
        "import io\n",
        "uploaded=files.upload()"
      ],
      "metadata": {
        "id": "5CU9dpqub7rQ"
      },
      "execution_count": null,
      "outputs": []
    },
    {
      "cell_type": "code",
      "source": [
        "df = pd.read_csv(io.BytesIO(uploaded['student-mat.csv']),sep=';')\n",
        "df"
      ],
      "metadata": {
        "id": "kwlHDbQCcsos"
      },
      "execution_count": null,
      "outputs": []
    },
    {
      "cell_type": "code",
      "source": [
        "df.info()"
      ],
      "metadata": {
        "id": "6sH7ZdPqj50P"
      },
      "execution_count": null,
      "outputs": []
    },
    {
      "cell_type": "code",
      "source": [
        "#taille \n",
        "df.shape"
      ],
      "metadata": {
        "id": "q-XtQ4aGlXjv"
      },
      "execution_count": null,
      "outputs": []
    },
    {
      "cell_type": "code",
      "source": [
        "#show only the columns\n",
        "df.columns"
      ],
      "metadata": {
        "id": "qQhguA6jmXKR"
      },
      "execution_count": null,
      "outputs": []
    },
    {
      "cell_type": "code",
      "source": [
        "df.head()"
      ],
      "metadata": {
        "id": "Axh6hp9bmxAo"
      },
      "execution_count": null,
      "outputs": []
    },
    {
      "cell_type": "code",
      "source": [
        "#show the last line \n",
        "df.tail()"
      ],
      "metadata": {
        "id": "Y7A__pHznsd9"
      },
      "execution_count": null,
      "outputs": []
    },
    {
      "cell_type": "code",
      "source": [
        "df1=df['age']\n",
        "df1"
      ],
      "metadata": {
        "id": "jVB_y8XzoF3D"
      },
      "execution_count": null,
      "outputs": []
    },
    {
      "cell_type": "code",
      "source": [
        "df1.mean()"
      ],
      "metadata": {
        "id": "OTtD4GIIqPk7"
      },
      "execution_count": null,
      "outputs": []
    },
    {
      "cell_type": "code",
      "source": [
        "# affiche toutes les variables statistique de df1\n",
        "df1.describe()"
      ],
      "metadata": {
        "id": "H_eDk3WErAN4"
      },
      "execution_count": null,
      "outputs": []
    },
    {
      "cell_type": "code",
      "source": [
        "df2=df[['age','sex','studytime','G1']]\n",
        "df2.describe()"
      ],
      "metadata": {
        "id": "A9eb4N6vrdrf"
      },
      "execution_count": null,
      "outputs": []
    },
    {
      "cell_type": "code",
      "source": [
        "df3=df['sex']\n",
        "df3"
      ],
      "metadata": {
        "id": "cfPbQCNjr_tC"
      },
      "execution_count": null,
      "outputs": []
    },
    {
      "cell_type": "code",
      "source": [
        "#pour connaitre le nombre de fille ou garcon (nbre d'iteration)\n",
        "df3.value_counts()"
      ],
      "metadata": {
        "id": "69lxcbn_t9Zt"
      },
      "execution_count": null,
      "outputs": []
    },
    {
      "cell_type": "markdown",
      "source": [
        "# **Comment selectionne les lignes et colonnes avec loc et iloc**\n",
        "\n",
        "1.   **Le iloc se base sur l' indice**\n",
        "2.   **Le loc se base sur le label**\n",
        "\n"
      ],
      "metadata": {
        "id": "RjbxDHZHxYB7"
      }
    },
    {
      "cell_type": "code",
      "source": [
        "# Affiche la ligne \n",
        "df.iloc[0]"
      ],
      "metadata": {
        "id": "x2JHG-PVxPL_"
      },
      "execution_count": null,
      "outputs": []
    },
    {
      "cell_type": "code",
      "source": [
        "# afficher un ensemble de ligne\n",
        "df.iloc[10:20]"
      ],
      "metadata": {
        "id": "sV8WHljxypQW"
      },
      "execution_count": null,
      "outputs": []
    },
    {
      "cell_type": "code",
      "source": [
        "# Sélectionner des lignes et colonnes en utilisant loc et iloc (iloc [indice])\n",
        "# [1] represente la colonne\n",
        "df.iloc[10:20,[1]]"
      ],
      "metadata": {
        "id": "M3vHVGlhzWpx"
      },
      "execution_count": null,
      "outputs": []
    },
    {
      "cell_type": "code",
      "source": [
        "df.iloc[10:20,[1,2,3]]"
      ],
      "metadata": {
        "id": "-ipeNHOs0Akx"
      },
      "execution_count": null,
      "outputs": []
    },
    {
      "cell_type": "code",
      "source": [
        "# Sélectionner des lignes et colonnes en utilisant loc et iloc (loc [avec nom des colonnes])\n",
        "df.loc[10:20,['age','sex']]\n"
      ],
      "metadata": {
        "id": "XRC459uU0QMw"
      },
      "execution_count": null,
      "outputs": []
    },
    {
      "cell_type": "markdown",
      "source": [
        "**Afficher uniquement les notes des filles (filtrage)**"
      ],
      "metadata": {
        "id": "2HU8C9sB7mdW"
      }
    },
    {
      "cell_type": "code",
      "source": [
        "df4= (df['sex']=='F')\n",
        "df4"
      ],
      "metadata": {
        "id": "Lq98AbUC7u_c"
      },
      "execution_count": null,
      "outputs": []
    },
    {
      "cell_type": "code",
      "source": [
        "df.loc[df4]"
      ],
      "metadata": {
        "id": "PkSxN-mp9cXQ"
      },
      "execution_count": null,
      "outputs": []
    },
    {
      "cell_type": "code",
      "source": [
        "#Afficher uniquement les notes on fait appel a 'loc' ou 'iloc'\n",
        "df.loc[df4,['G1']]"
      ],
      "metadata": {
        "id": "uVmSbmSD-HBn"
      },
      "execution_count": null,
      "outputs": []
    },
    {
      "cell_type": "code",
      "source": [
        "df.iloc[0:395,[30]]"
      ],
      "metadata": {
        "id": "S_MlFZov_O9b"
      },
      "execution_count": null,
      "outputs": []
    },
    {
      "cell_type": "code",
      "source": [
        "#df5= (df['studytime']=='2')\n",
        "df5=(df['sex']=='F') & (df['studytime']==2)\n",
        "df.loc[df5]\n"
      ],
      "metadata": {
        "id": "bQ7Qltb6_TsY"
      },
      "execution_count": null,
      "outputs": []
    },
    {
      "cell_type": "code",
      "source": [
        "df.loc[df5,['studytime']]\n"
      ],
      "metadata": {
        "id": "hnJHGRJ3BD2I"
      },
      "execution_count": null,
      "outputs": []
    },
    {
      "cell_type": "code",
      "source": [
        "df.loc[df5,['sex','age','studytime','G1']]\n"
      ],
      "metadata": {
        "id": "lLG130piDtP6"
      },
      "execution_count": null,
      "outputs": []
    },
    {
      "cell_type": "code",
      "source": [
        "#afficher les notes des garcons peut importe le studytimes\n",
        "df6=df.loc[-df4,['sex','age','studytime','G1']]\n",
        "df6\n"
      ],
      "metadata": {
        "id": "Wp0CUSOoEX5I"
      },
      "execution_count": null,
      "outputs": []
    },
    {
      "cell_type": "markdown",
      "source": [
        "##**Comment modifier les lignes et les colonnes**"
      ],
      "metadata": {
        "id": "tAtobOxos3zi"
      }
    },
    {
      "cell_type": "code",
      "source": [
        "df.columns"
      ],
      "metadata": {
        "id": "Z7JRwl-qtCOP"
      },
      "execution_count": null,
      "outputs": []
    },
    {
      "cell_type": "markdown",
      "source": [
        "####comment transformer tout les noms des colonnnes en majuscule"
      ],
      "metadata": {
        "id": "yrWNdYOetzev"
      }
    },
    {
      "cell_type": "code",
      "source": [
        "df.columns=[x.upper() for x in df.columns]\n",
        "df.columns"
      ],
      "metadata": {
        "id": "cxL4UfpvuDZm"
      },
      "execution_count": null,
      "outputs": []
    },
    {
      "cell_type": "code",
      "source": [
        "df.head(10)"
      ],
      "metadata": {
        "id": "72dBtpImv6IT"
      },
      "execution_count": null,
      "outputs": []
    },
    {
      "cell_type": "code",
      "source": [
        "###comment transformer tout les noms des colonnnes en miniscule\n",
        "df.columns=[x.lower() for x in df.columns]\n",
        "df"
      ],
      "metadata": {
        "id": "GRnFrVDswdiC"
      },
      "execution_count": null,
      "outputs": []
    },
    {
      "cell_type": "markdown",
      "source": [
        "### Renomme les noms"
      ],
      "metadata": {
        "id": "z6c67qOAwgQ-"
      }
    },
    {
      "cell_type": "code",
      "source": [
        "df.rename(columns={'g1':'Math','g2':'Physics','g3':'SVT'},inplace=True)\n",
        "df.head(5)"
      ],
      "metadata": {
        "id": "T3zdujhmwpzN"
      },
      "execution_count": null,
      "outputs": []
    },
    {
      "cell_type": "markdown",
      "source": [
        "###Comment change un element de la base de donnee"
      ],
      "metadata": {
        "id": "N54ItePI0OMD"
      }
    },
    {
      "cell_type": "markdown",
      "source": [
        "####par exemple on veut change l'age de la deuxieme ligne qui est actuellement 15 en 18"
      ],
      "metadata": {
        "id": "_VXbI29C0ZJ8"
      }
    },
    {
      "cell_type": "code",
      "source": [
        "df.loc[2,'age']=18\n",
        "df.head(10)"
      ],
      "metadata": {
        "id": "npuis03Mx9Df"
      },
      "execution_count": null,
      "outputs": []
    },
    {
      "cell_type": "code",
      "source": [
        "df.head(10)"
      ],
      "metadata": {
        "id": "gSSIWUYqyx7u"
      },
      "execution_count": null,
      "outputs": []
    },
    {
      "cell_type": "markdown",
      "source": [
        "###Comment change tout une colonne en majuscule "
      ],
      "metadata": {
        "id": "Df8UnADo10K7"
      }
    },
    {
      "cell_type": "code",
      "source": [
        "df['guardian'].str.upper()"
      ],
      "metadata": {
        "id": "eidMnFOFzH62"
      },
      "execution_count": null,
      "outputs": []
    },
    {
      "cell_type": "code",
      "source": [
        "df.head(10)"
      ],
      "metadata": {
        "id": "5V6BgutH54Pv"
      },
      "execution_count": null,
      "outputs": []
    },
    {
      "cell_type": "code",
      "source": [
        "df['guardian']=df['guardian'].str.upper()\n",
        "df.head(10)"
      ],
      "metadata": {
        "id": "Ba2h4FEM5Ak7"
      },
      "execution_count": null,
      "outputs": []
    },
    {
      "cell_type": "markdown",
      "source": [
        "###Double les notes de Math"
      ],
      "metadata": {
        "id": "15vDyLrA9y_e"
      }
    },
    {
      "cell_type": "code",
      "source": [
        "def double(Math):\n",
        "  return Math*2\n",
        "df['Math']=df['Math'].apply(double)"
      ],
      "metadata": {
        "id": "yQfMQKXV5pxg"
      },
      "execution_count": null,
      "outputs": []
    },
    {
      "cell_type": "code",
      "source": [
        "df.head(5)"
      ],
      "metadata": {
        "id": "0gO_ApFV-UK4"
      },
      "execution_count": null,
      "outputs": []
    },
    {
      "cell_type": "markdown",
      "source": [
        "###Change le F de sex en '0' et le M en '1'"
      ],
      "metadata": {
        "id": "5bPBCwFr_MrX"
      }
    },
    {
      "cell_type": "code",
      "source": [
        "df['sex']=df['sex'].map({'F':0,'M':1})\n",
        "df.head(10)"
      ],
      "metadata": {
        "id": "Dvo7sQXg-b-a"
      },
      "execution_count": null,
      "outputs": []
    },
    {
      "cell_type": "code",
      "source": [],
      "metadata": {
        "id": "ojYGc2K8AEPr"
      },
      "execution_count": null,
      "outputs": []
    }
  ]
}